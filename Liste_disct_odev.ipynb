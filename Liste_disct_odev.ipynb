{
 "cells": [
  {
   "cell_type": "markdown",
   "metadata": {
    "id": "tE9ZjH5lQn2-"
   },
   "source": [
    "### Ödev 1\n",
    "\n",
    "liste = [\"Python\",True,9,\"3\",8.4,\"Hi-Kod\",\"False\",4.7]\n",
    "\n",
    "1. Aşağıdaki işlemleri indexing ve slicing kullanarak liste üzerinde uygulayın.\n",
    "\n",
    "   - \"3\" değerine ulaşmak için indexleme yapın.\n",
    "   - \"Hi-Kod\" değerine ulaşmak için indexleme yapın.\n",
    "   - 4.7 değerine ulaşmak için indexleme yapın.\n",
    "   - 9,\"3\",8.4,\"Hi-Kod\" değerlerine ulaşmak için slicing yapın.\n",
    "   - 8.4,\"Hi-Kod\",\"False\",4.7 değerlerine ulaşmak için slicing yapın."
   ]
  },
  {
   "cell_type": "code",
   "execution_count": null,
   "metadata": {
    "id": "AhOkYXjIQn3E"
   },
   "outputs": [
    {
     "data": {
      "text/plain": [
       "'3'"
      ]
     },
     "execution_count": 10,
     "metadata": {},
     "output_type": "execute_result"
    }
   ],
   "source": [
    "liste = [\"Python\",True,9,\"3\",8.4,\"Hi-Kod\",\"False\",4.7]\n",
    "liste[3]"
   ]
  },
  {
   "cell_type": "code",
   "execution_count": null,
   "metadata": {},
   "outputs": [
    {
     "data": {
      "text/plain": [
       "'Hi-Kod'"
      ]
     },
     "execution_count": 11,
     "metadata": {},
     "output_type": "execute_result"
    }
   ],
   "source": [
    "liste[5]"
   ]
  },
  {
   "cell_type": "code",
   "execution_count": null,
   "metadata": {},
   "outputs": [
    {
     "data": {
      "text/plain": [
       "4.7"
      ]
     },
     "execution_count": 12,
     "metadata": {},
     "output_type": "execute_result"
    }
   ],
   "source": [
    "liste[7]"
   ]
  },
  {
   "cell_type": "code",
   "execution_count": 13,
   "metadata": {},
   "outputs": [
    {
     "data": {
      "text/plain": [
       "[9, '3', 8.4, 'Hi-Kod']"
      ]
     },
     "execution_count": 13,
     "metadata": {},
     "output_type": "execute_result"
    }
   ],
   "source": [
    "liste[2:6]"
   ]
  },
  {
   "cell_type": "code",
   "execution_count": 14,
   "metadata": {},
   "outputs": [
    {
     "data": {
      "text/plain": [
       "[8.4, 'Hi-Kod', 'False']"
      ]
     },
     "execution_count": 14,
     "metadata": {},
     "output_type": "execute_result"
    }
   ],
   "source": [
    "liste[4:7]"
   ]
  },
  {
   "cell_type": "markdown",
   "metadata": {
    "id": "PU_vatZVQn3E"
   },
   "source": [
    "### Ödev 2\n",
    "\n",
    "Verilen listede bulunan string veri tipindeki öğeleri yeni_liste isimli listeye eklenir.\n",
    "\n",
    "liste = [\"Python\",True,9,\"3\",8.4,\"Hi-Kod\",\"False\",4.7]"
   ]
  },
  {
   "cell_type": "code",
   "execution_count": null,
   "metadata": {
    "id": "k036-a4qQn3F"
   },
   "outputs": [],
   "source": [
    "liste = [\"Python\",True,9,\"3\",8.4,\"Hi-Kod\",\"False\",4.7]"
   ]
  },
  {
   "cell_type": "code",
   "execution_count": 26,
   "metadata": {},
   "outputs": [
    {
     "name": "stdout",
     "output_type": "stream",
     "text": [
      "['Python', '3', 'Hi-Kod', 'False']\n"
     ]
    }
   ],
   "source": [
    "yeni_liste=[]\n",
    "for oge in liste:\n",
    "    if type(oge) == str:\n",
    "        yeni_liste.append(oge)\n",
    "\n",
    "print(yeni_liste)\n"
   ]
  },
  {
   "cell_type": "markdown",
   "metadata": {
    "id": "LKspMidRQn3G"
   },
   "source": [
    "### Ödev 3\n",
    "\n",
    "Enumerate methodunu araştırın ve aşağıdaki örneği enumerate methodu ile yapın."
   ]
  },
  {
   "cell_type": "code",
   "execution_count": null,
   "metadata": {
    "id": "uKwshjmAQn3G"
   },
   "outputs": [],
   "source": [
    "for index in range(len(meyveler)):\n",
    "\n",
    "    print(\"{}. indexte bulunan meyve: {}\".format(index,meyveler[index]))"
   ]
  },
  {
   "cell_type": "code",
   "execution_count": 27,
   "metadata": {},
   "outputs": [
    {
     "name": "stdout",
     "output_type": "stream",
     "text": [
      "0. indexte bulunan meyve: elma\n",
      "1. indexte bulunan meyve: muz\n",
      "2. indexte bulunan meyve: kiraz\n"
     ]
    }
   ],
   "source": [
    "meyveler = ['elma', 'muz', 'kiraz']\n",
    "\n",
    "# enumerate() kullanarak\n",
    "for index, meyve in enumerate(meyveler):\n",
    "    print(\"{}. indexte bulunan meyve: {}\".format(index, meyve))\n"
   ]
  },
  {
   "cell_type": "markdown",
   "metadata": {
    "id": "ZmwK7TWhQn3H"
   },
   "source": []
  },
  {
   "cell_type": "markdown",
   "metadata": {
    "id": "M_DfcqxXQubL"
   },
   "source": [
    "## Sozluk"
   ]
  },
  {
   "cell_type": "markdown",
   "metadata": {
    "id": "ZMXFFucEQxxD"
   },
   "source": [
    "1. Bir sözlük oluşturulur ve bu sözlükte öğrencilerin isimleri ve Matematik, Fizik, Kimya notları tutulur. Kullanıcıdan isim ve ders ismi(Matematik, Fizik, Kimya) istenir ve bu bilgilere göre çıktı verilir."
   ]
  },
  {
   "cell_type": "markdown",
   "metadata": {
    "id": "8NJYTepzQ13V"
   },
   "source": [
    "2. Sözlük üzerinde değerleri değiştirme, yeni değer ekleme, kullanıcıya ulaşmak istediği bilgileri sorma gibi uygulamalar yapın."
   ]
  },
  {
   "cell_type": "code",
   "execution_count": null,
   "metadata": {
    "id": "Sl7EK7FDQsW1"
   },
   "outputs": [],
   "source": [
    "\n",
    "ogrenciler = {\n",
    "    'Ahmet': {'Matematik': 75, 'Fizik': 85, 'Kimya': 90},\n",
    "    'Ayşe': {'Matematik': 88, 'Fizik': 92, 'Kimya': 80},\n",
    "    'Mehmet': {'Matematik': 65, 'Fizik': 70, 'Kimya': 75}\n",
    "}\n",
    "\n",
    "isim = input(\"Öğrencinin ismini girin: \")\n",
    "ders = input(\"Hangi dersten bilgi almak istersiniz? (Matematik, Fizik, Kimya): \")\n",
    "\n",
    "if isim in ogrenciler:\n",
    "    if ders in ogrenciler[isim]:\n",
    "        print(f\"{isim} öğrencisinin {ders} notu: {ogrenciler[isim][ders]}\")\n",
    "    else:\n",
    "        print(f\"{isim} öğrencisi bu dersi almadı veya yanlış ders ismi girdiniz.\")\n",
    "else:\n",
    "    print(f\"{isim} isimli öğrenci bulunamadı.\")\n",
    "\n",
    "secim = input(\"Mevcut notu güncellemek ya da yeni not eklemek ister misiniz? (Evet/Hayır): \").lower()\n",
    "\n",
    "if secim == 'evet':\n",
    "    isim = input(\"Öğrencinin ismini girin: \")\n",
    "    ders = input(\"Hangi dersin notunu güncellemek veya eklemek istersiniz? (Matematik, Fizik, Kimya): \")\n",
    "    yeni_not = float(input(\"Yeni notu girin: \"))\n",
    "\n",
    "    if isim in ogrenciler:\n",
    "        ogrenciler[isim][ders] = yeni_not  \n",
    "        print(f\"{isim} öğrencisinin {ders} notu başarıyla {yeni_not} olarak güncellendi.\")\n",
    "    else:\n",
    "        print(f\"{isim} isimli öğrenci bulunamadı. Yeni öğrenci eklenecek.\")\n",
    "        ogrenciler[isim] = {ders: yeni_not}  \n",
    "        print(f\"{isim} öğrencisi ve {ders} dersi başarıyla eklendi.\")\n",
    "    \n",
    "    print(\"Güncel öğrenci bilgileri:\", ogrenciler)\n",
    "\n",
    "\n"
   ]
  }
 ],
 "metadata": {
  "colab": {
   "provenance": []
  },
  "kernelspec": {
   "display_name": "Python 3",
   "language": "python",
   "name": "python3"
  },
  "language_info": {
   "codemirror_mode": {
    "name": "ipython",
    "version": 3
   },
   "file_extension": ".py",
   "mimetype": "text/x-python",
   "name": "python",
   "nbconvert_exporter": "python",
   "pygments_lexer": "ipython3",
   "version": "3.13.2"
  }
 },
 "nbformat": 4,
 "nbformat_minor": 0
}
