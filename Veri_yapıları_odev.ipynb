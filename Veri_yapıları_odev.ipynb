{
 "cells": [
  {
   "cell_type": "markdown",
   "id": "032d81b2",
   "metadata": {},
   "source": [
    "# 1\n",
    "x = 3 ----> floata çevirelim. Çevirdikten sonra beri tipinide yazdıralım.\n",
    "\n",
    "y = 4.5 -----> integere çevirelim. Çevirdikten sonra beri tipinide yazdıralım.\n",
    "\n",
    "z = \"8\" -----> integera çevirelim. Çevirdikten sonra beri tipinide yazdıralım.\n",
    "\n",
    "a = \"12\" -----> floata çevirelim. Çevirdikten sonra beri tipinide yazdıralım.\n",
    "\n",
    "b = \"46.8\" ------> integera çevirelim. Çevirdikten sonra beri tipinide yazdıralım."
   ]
  },
  {
   "cell_type": "code",
   "execution_count": 7,
   "id": "f1b735c0",
   "metadata": {},
   "outputs": [
    {
     "name": "stdout",
     "output_type": "stream",
     "text": [
      "{<class 'float'>}\n"
     ]
    }
   ],
   "source": [
    "x = 3\n",
    "x= float(x)\n",
    "type(x)\n",
    "print({type(x)})"
   ]
  },
  {
   "cell_type": "code",
   "execution_count": null,
   "id": "e50bdf0f",
   "metadata": {},
   "outputs": [
    {
     "name": "stdout",
     "output_type": "stream",
     "text": [
      "{<class 'int'>}\n"
     ]
    }
   ],
   "source": [
    "y = 4.5\n",
    "y= int(y)\n",
    "print({type(y)})"
   ]
  },
  {
   "cell_type": "code",
   "execution_count": null,
   "id": "3cebe23b",
   "metadata": {},
   "outputs": [
    {
     "name": "stdout",
     "output_type": "stream",
     "text": [
      "{<class 'int'>}\n"
     ]
    }
   ],
   "source": [
    "z=8\n",
    "print({type(z)})     # z zaten integer'dır "
   ]
  },
  {
   "cell_type": "code",
   "execution_count": 11,
   "id": "89c5e35d",
   "metadata": {},
   "outputs": [
    {
     "name": "stdout",
     "output_type": "stream",
     "text": [
      "{<class 'float'>}\n"
     ]
    }
   ],
   "source": [
    "a = 12\n",
    "a = float(a)\n",
    "print({type(a)})"
   ]
  },
  {
   "cell_type": "code",
   "execution_count": 13,
   "id": "6fce48d7",
   "metadata": {},
   "outputs": [
    {
     "name": "stdout",
     "output_type": "stream",
     "text": [
      "{<class 'int'>}\n"
     ]
    }
   ],
   "source": [
    "b = 46.8\n",
    "b = int(b)\n",
    "print({type(b)})"
   ]
  },
  {
   "cell_type": "markdown",
   "id": "95509718",
   "metadata": {},
   "source": [
    "# 2 \n",
    "İsimlerden oluşan üç değişkene yaş değerleri atanır. Belirlenen üç değişken birbiriyle karşılaştırma operatörleri ile karşılaştırılır. Bu karşılaştırmalara mantıksal operatörler de eklenir."
   ]
  },
  {
   "cell_type": "code",
   "execution_count": 19,
   "id": "50f77b4f",
   "metadata": {},
   "outputs": [
    {
     "name": "stdout",
     "output_type": "stream",
     "text": [
      "True\n"
     ]
    }
   ],
   "source": [
    "Ömer = 23\n",
    "Ahmet = 56\n",
    "Rümeysa = 44\n",
    "\n",
    "print( Ömer < Ahmet)\n"
   ]
  },
  {
   "cell_type": "code",
   "execution_count": 20,
   "id": "3e3cc501",
   "metadata": {},
   "outputs": [
    {
     "name": "stdout",
     "output_type": "stream",
     "text": [
      "False\n"
     ]
    }
   ],
   "source": [
    "print( Rümeysa < Ömer)\n"
   ]
  },
  {
   "cell_type": "code",
   "execution_count": 23,
   "id": "94679ca3",
   "metadata": {},
   "outputs": [
    {
     "name": "stdout",
     "output_type": "stream",
     "text": [
      "True\n"
     ]
    }
   ],
   "source": [
    "print(Rümeysa<Ahmet)"
   ]
  },
  {
   "cell_type": "code",
   "execution_count": 24,
   "id": "5d09b847",
   "metadata": {},
   "outputs": [
    {
     "name": "stdout",
     "output_type": "stream",
     "text": [
      "True\n"
     ]
    }
   ],
   "source": [
    "print(Ömer<Rümeysa and Ömer<Ahmet)"
   ]
  },
  {
   "cell_type": "code",
   "execution_count": 26,
   "id": "17627b78",
   "metadata": {},
   "outputs": [
    {
     "name": "stdout",
     "output_type": "stream",
     "text": [
      "True\n"
     ]
    }
   ],
   "source": [
    "print(Ömer > Ahmet or Ömer<Rümeysa)"
   ]
  },
  {
   "cell_type": "markdown",
   "id": "a1a0eb92",
   "metadata": {},
   "source": [
    "# 3\n",
    "Kullanıcıdan iki değer girmesini istenir. Girilen değerlerin toplama, çıkarma, çarpma, bölme sonuçlarını yazdırılır."
   ]
  },
  {
   "cell_type": "code",
   "execution_count": 2,
   "id": "c361e45a",
   "metadata": {},
   "outputs": [],
   "source": [
    "c = int(input(\"İlk Sayıyı Girin: \"))\n",
    "d = int(input(\"İkinci Sayıyı Girin: \"))"
   ]
  },
  {
   "cell_type": "code",
   "execution_count": 3,
   "id": "101a19c7",
   "metadata": {},
   "outputs": [
    {
     "name": "stdout",
     "output_type": "stream",
     "text": [
      "toplama:  345\n"
     ]
    }
   ],
   "source": [
    "toplama = c + d\n",
    "çarpma = c * d\n",
    "çıkarma = c - d\n",
    "bölme = c / d\n",
    "\n",
    "print(\"toplama: \",toplama )"
   ]
  },
  {
   "cell_type": "code",
   "execution_count": 4,
   "id": "ea07054e",
   "metadata": {},
   "outputs": [
    {
     "name": "stdout",
     "output_type": "stream",
     "text": [
      "çarpma:  16874\n"
     ]
    }
   ],
   "source": [
    "print(\"çarpma: \",çarpma )"
   ]
  },
  {
   "cell_type": "code",
   "execution_count": 5,
   "id": "f77d1d63",
   "metadata": {},
   "outputs": [
    {
     "name": "stdout",
     "output_type": "stream",
     "text": [
      "bölme:  0.2062937062937063\n"
     ]
    }
   ],
   "source": [
    "print(\"bölme: \",bölme )"
   ]
  },
  {
   "cell_type": "code",
   "execution_count": 6,
   "id": "f929043e",
   "metadata": {},
   "outputs": [
    {
     "name": "stdout",
     "output_type": "stream",
     "text": [
      "çıkarma:  -227\n"
     ]
    }
   ],
   "source": [
    "print(\"çıkarma: \",çıkarma )"
   ]
  },
  {
   "cell_type": "markdown",
   "id": "060b0bea",
   "metadata": {},
   "source": [
    "# 4\n",
    "Kullanıcıdan isim, yaş, şehir ve meslek bilgilerini istenir ve cevaplarını yazdırılır."
   ]
  },
  {
   "cell_type": "code",
   "execution_count": 10,
   "id": "543bf402",
   "metadata": {},
   "outputs": [
    {
     "name": "stdout",
     "output_type": "stream",
     "text": [
      "isim:  Dilara\n",
      "yaş:  23\n",
      "şehir:  İstanbul\n",
      "meslek:  Endüstri Mühendisi\n"
     ]
    }
   ],
   "source": [
    "isim = input(\"İsminizi giriniz: \")\n",
    "yas = input(\"Yaşınızı giriniz: \")\n",
    "sehir = input(\"Şehir giriniz: \")\n",
    "meslek = input(\"Mesleğinizi giriniz: \")\n",
    "\n",
    "print(\"isim: \",isim )\n",
    "print(\"yaş: \",yas )\n",
    "print(\"şehir: \",sehir )\n",
    "print(\"meslek: \",meslek )"
   ]
  },
  {
   "cell_type": "markdown",
   "id": "55e1a34e",
   "metadata": {},
   "source": [
    "# 5\n",
    "\"Hi-Kod Veri Bilimi Atölyesi\" ifadesini bir değişkene tanımlanır.\n",
    "\n",
    "\n",
    " 1. İfadedeki her bir kelimeyi (\"Hi-Kod\", \"Veri\", \"Bilimi\", \"Atölyesi\") değişken içinden seçilir. \n",
    " 2. İfadeyi hepsini büyük harf olacak hale çevrilir. (\"HI-KOD VERİ BİLİMİ ATÖLYESİ\") \n",
    " 3. İfadeyi hepsini büyük harf olacak hale çevrilir.(\"hi-kod veri bilimi atölyesi\") \n",
    "\n",
    "\"0123456789\" ifadesindeki yalnızca çift sayıları ve yalnızca tek sayıları seçilir. (\"02468\", \"13579\")"
   ]
  },
  {
   "cell_type": "code",
   "execution_count": 12,
   "id": "00d85948",
   "metadata": {},
   "outputs": [],
   "source": [
    "atolye=\"Hi-Kod Veri Bilimi Atölyesi\""
   ]
  },
  {
   "cell_type": "code",
   "execution_count": 18,
   "id": "0fc1bc40",
   "metadata": {},
   "outputs": [
    {
     "name": "stdout",
     "output_type": "stream",
     "text": [
      "Hi-Kod\n"
     ]
    }
   ],
   "source": [
    "print(atolye[0:6])"
   ]
  },
  {
   "cell_type": "code",
   "execution_count": 19,
   "id": "65864682",
   "metadata": {},
   "outputs": [
    {
     "name": "stdout",
     "output_type": "stream",
     "text": [
      "Veri\n"
     ]
    }
   ],
   "source": [
    "print(atolye[7:11])"
   ]
  },
  {
   "cell_type": "code",
   "execution_count": 21,
   "id": "fd43efc9",
   "metadata": {},
   "outputs": [
    {
     "name": "stdout",
     "output_type": "stream",
     "text": [
      "Bilimi\n"
     ]
    }
   ],
   "source": [
    "print(atolye[12:18])"
   ]
  },
  {
   "cell_type": "code",
   "execution_count": 22,
   "id": "2d8ad738",
   "metadata": {},
   "outputs": [
    {
     "name": "stdout",
     "output_type": "stream",
     "text": [
      "Atölyesi\n"
     ]
    }
   ],
   "source": [
    "print(atolye[19:27])"
   ]
  },
  {
   "cell_type": "code",
   "execution_count": 24,
   "id": "5f3c0427",
   "metadata": {},
   "outputs": [
    {
     "data": {
      "text/plain": [
       "'HI-KOD VERI BILIMI ATÖLYESI'"
      ]
     },
     "execution_count": 24,
     "metadata": {},
     "output_type": "execute_result"
    }
   ],
   "source": [
    "atolye.upper()"
   ]
  },
  {
   "cell_type": "code",
   "execution_count": 25,
   "id": "bfd2b45a",
   "metadata": {},
   "outputs": [
    {
     "data": {
      "text/plain": [
       "'hi-kod veri bilimi atölyesi'"
      ]
     },
     "execution_count": 25,
     "metadata": {},
     "output_type": "execute_result"
    }
   ],
   "source": [
    "atolye.lower()"
   ]
  }
 ],
 "metadata": {
  "kernelspec": {
   "display_name": "Python 3",
   "language": "python",
   "name": "python3"
  },
  "language_info": {
   "codemirror_mode": {
    "name": "ipython",
    "version": 3
   },
   "file_extension": ".py",
   "mimetype": "text/x-python",
   "name": "python",
   "nbconvert_exporter": "python",
   "pygments_lexer": "ipython3",
   "version": "3.13.2"
  }
 },
 "nbformat": 4,
 "nbformat_minor": 5
}
